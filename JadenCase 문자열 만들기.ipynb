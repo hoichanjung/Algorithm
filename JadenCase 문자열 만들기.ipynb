{
 "cells": [
  {
   "cell_type": "code",
   "execution_count": 1,
   "metadata": {},
   "outputs": [],
   "source": [
    "# 문제 설명\n",
    "# JadenCase란 모든 단어의 첫 문자가 대문자이고, 그 외의 알파벳은 소문자인 문자열입니다. 단, 첫 문자가 알파벳이 아닐 때에는 이어지는 알파벳은 소문자로 쓰면 됩니다. (첫 번째 입출력 예 참고)\n",
    "# 문자열 s가 주어졌을 때, s를 JadenCase로 바꾼 문자열을 리턴하는 함수, solution을 완성해주세요.\n",
    "\n",
    "# 제한 조건\n",
    "# s는 길이 1 이상 200 이하인 문자열입니다.\n",
    "# s는 알파벳과 숫자, 공백문자(\" \")로 이루어져 있습니다.\n",
    "# 숫자는 단어의 첫 문자로만 나옵니다.\n",
    "# 숫자로만 이루어진 단어는 없습니다.\n",
    "# 공백문자가 연속해서 나올 수 있습니다."
   ]
  },
  {
   "cell_type": "code",
   "execution_count": 2,
   "metadata": {},
   "outputs": [],
   "source": [
    "def solution(s):\n",
    "\n",
    "    answer = ''\n",
    "    s = s.lower()\n",
    "    s_list = list(s)\n",
    "    s_list[0] = s_list[0].upper()\n",
    "    for i in range(len(s_list)):  \n",
    "        if s_list[i].isspace():\n",
    "            s_list[i+1] = s_list[i+1].upper()\n",
    "\n",
    "    answer = \"\".join(s_list)\n",
    "    \n",
    "    return answer"
   ]
  },
  {
   "cell_type": "code",
   "execution_count": 3,
   "metadata": {},
   "outputs": [
    {
     "data": {
      "text/plain": [
       "'3people Unfollowed Me'"
      ]
     },
     "execution_count": 3,
     "metadata": {},
     "output_type": "execute_result"
    }
   ],
   "source": [
    "s = \"3people unFollowed me\"\n",
    "# return = \"3people Unfollowed Me\"\n",
    "\n",
    "# s = \"for the last week\"\n",
    "# return = \"For The Last Week\"\n",
    "\n",
    "solution(s)"
   ]
  }
 ],
 "metadata": {
  "kernelspec": {
   "display_name": "Python 3",
   "language": "python",
   "name": "python3"
  },
  "language_info": {
   "codemirror_mode": {
    "name": "ipython",
    "version": 3
   },
   "file_extension": ".py",
   "mimetype": "text/x-python",
   "name": "python",
   "nbconvert_exporter": "python",
   "pygments_lexer": "ipython3",
   "version": "3.8.3"
  }
 },
 "nbformat": 4,
 "nbformat_minor": 4
}
