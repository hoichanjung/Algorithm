{
 "cells": [
  {
   "cell_type": "code",
   "execution_count": 1,
   "metadata": {},
   "outputs": [],
   "source": [
    "# 문제 설명\n",
    "# 주차장의 요금표와 차량이 들어오고(입차) 나간(출차) 기록이 주어졌을 때, 차량별로 주차 요금을 계산하려고 합니다. 아래는 하나의 예시를 나타냅니다.\n",
    "\n",
    "# 요금표\n",
    "# 기본 시간(분)\t기본 요금(원)\t단위 시간(분)\t단위 요금(원)\n",
    "# 180\t5000\t10\t600\n",
    " \n",
    "\n",
    "# 입/출차 기록\n",
    "# 시각(시:분)\t차량 번호\t내역\n",
    "# 05:34\t5961\t입차\n",
    "# 06:00\t0000\t입차\n",
    "# 06:34\t0000\t출차\n",
    "# 07:59\t5961\t출차\n",
    "# 07:59\t0148\t입차\n",
    "# 18:59\t0000\t입차\n",
    "# 19:09\t0148\t출차\n",
    "# 22:59\t5961\t입차\n",
    "# 23:00\t5961\t출차\n",
    " \n",
    "\n",
    "# 자동차별 주차 요금\n",
    "# 차량 번호\t누적 주차 시간(분)\t주차 요금(원)\n",
    "# 0000\t34 + 300 = 334\t5000 + ⌈(334 - 180) / 10⌉ x 600 = 14600\n",
    "# 0148\t670\t5000 +⌈(670 - 180) / 10⌉x 600 = 34400\n",
    "# 5961\t145 + 1 = 146\t5000\n",
    "# 어떤 차량이 입차된 후에 출차된 내역이 없다면, 23:59에 출차된 것으로 간주합니다.\n",
    "# 0000번 차량은 18:59에 입차된 이후, 출차된 내역이 없습니다. 따라서, 23:59에 출차된 것으로 간주합니다.\n",
    "# 00:00부터 23:59까지의 입/출차 내역을 바탕으로 차량별 누적 주차 시간을 계산하여 요금을 일괄로 정산합니다.\n",
    "# 누적 주차 시간이 기본 시간이하라면, 기본 요금을 청구합니다.\n",
    "# 누적 주차 시간이 기본 시간을 초과하면, 기본 요금에 더해서, 초과한 시간에 대해서 단위 시간 마다 단위 요금을 청구합니다.\n",
    "# 초과한 시간이 단위 시간으로 나누어 떨어지지 않으면, 올림합니다.\n",
    "# ⌈a⌉ : a보다 작지 않은 최소의 정수를 의미합니다. 즉, 올림을 의미합니다.\n",
    "# 주차 요금을 나타내는 정수 배열 fees, 자동차의 입/출차 내역을 나타내는 문자열 배열 records가 매개변수로 주어집니다. 차량 번호가 작은 자동차부터 청구할 주차 요금을 차례대로 정수 배열에 담아서 return 하도록 solution 함수를 완성해주세요.\n",
    "\n",
    "# 제한사항\n",
    "# fees의 길이 = 4\n",
    "\n",
    "# fees[0] = 기본 시간(분)\n",
    "# 1 ≤ fees[0] ≤ 1,439\n",
    "# fees[1] = 기본 요금(원)\n",
    "# 0 ≤ fees[1] ≤ 100,000\n",
    "# fees[2] = 단위 시간(분)\n",
    "# 1 ≤ fees[2] ≤ 1,439\n",
    "# fees[3] = 단위 요금(원)\n",
    "# 1 ≤ fees[3] ≤ 10,000\n",
    "# 1 ≤ records의 길이 ≤ 1,000\n",
    "\n",
    "# records의 각 원소는 \"시각 차량번호 내역\" 형식의 문자열입니다.\n",
    "# 시각, 차량번호, 내역은 하나의 공백으로 구분되어 있습니다.\n",
    "# 시각은 차량이 입차되거나 출차된 시각을 나타내며, HH:MM 형식의 길이 5인 문자열입니다.\n",
    "# HH:MM은 00:00부터 23:59까지 주어집니다.\n",
    "# 잘못된 시각(\"25:22\", \"09:65\" 등)은 입력으로 주어지지 않습니다.\n",
    "# 차량번호는 자동차를 구분하기 위한, `0'~'9'로 구성된 길이 4인 문자열입니다.\n",
    "# 내역은 길이 2 또는 3인 문자열로, IN 또는 OUT입니다. IN은 입차를, OUT은 출차를 의미합니다.\n",
    "# records의 원소들은 시각을 기준으로 오름차순으로 정렬되어 주어집니다.\n",
    "# records는 하루 동안의 입/출차된 기록만 담고 있으며, 입차된 차량이 다음날 출차되는 경우는 입력으로 주어지지 않습니다.\n",
    "# 같은 시각에, 같은 차량번호의 내역이 2번 이상 나타내지 않습니다.\n",
    "# 마지막 시각(23:59)에 입차되는 경우는 입력으로 주어지지 않습니다.\n",
    "# 아래의 예를 포함하여, 잘못된 입력은 주어지지 않습니다.\n",
    "# 주차장에 없는 차량이 출차되는 경우\n",
    "# 주차장에 이미 있는 차량(차량번호가 같은 차량)이 다시 입차되는 경우"
   ]
  },
  {
   "cell_type": "code",
   "execution_count": 2,
   "metadata": {},
   "outputs": [],
   "source": [
    "def calculate_fee(parked_time, base_time, base_fee, unit_time, unit_fee):\n",
    "    import math\n",
    "    if parked_time <= base_time:\n",
    "        return base_fee\n",
    "    else:\n",
    "        total_fee = math.ceil(math.ceil(parked_time - base_time) / unit_time) * unit_fee + base_fee\n",
    "        return total_fee\n",
    "\n",
    "def solution(fees, records):\n",
    "\n",
    "    base_time, base_fee, unit_time, unit_fee = fees\n",
    "\n",
    "    dic = dict()\n",
    "    parking_lot = []\n",
    "\n",
    "    records = [rec.split(\" \") for rec in records]    \n",
    "    records.sort(key = lambda x: x[1])\n",
    "\n",
    "    for rec in records:\n",
    "\n",
    "        hour, mins = int(rec[0].split(\":\")[0])*60, int(rec[0].split(\":\")[1])\n",
    "        rec[0] = hour + mins\n",
    "\n",
    "        if rec[2] == 'IN':\n",
    "            parking_lot.append(rec[1])\n",
    "            if rec[1] in dic:\n",
    "                dic[rec[1]] = rec[0] - dic[rec[1]]\n",
    "            else:\n",
    "                dic[rec[1]] = rec[0]\n",
    "\n",
    "        elif rec[2] == 'OUT':\n",
    "            dic[rec[1]] = rec[0] - dic[rec[1]]\n",
    "            parking_lot.remove(rec[1])\n",
    "\n",
    "    max_time = 23 * 60 + 59\n",
    "    for car in parking_lot:\n",
    "        dic[car] = max_time - dic[car]\n",
    "\n",
    "    answer = []\n",
    "    for key in dic:\n",
    "        answer.append(calculate_fee(dic[key], base_time, base_fee, unit_time, unit_fee))\n",
    "        \n",
    "    return answer"
   ]
  },
  {
   "cell_type": "code",
   "execution_count": 3,
   "metadata": {},
   "outputs": [
    {
     "data": {
      "text/plain": [
       "[14600, 34400, 5000]"
      ]
     },
     "execution_count": 3,
     "metadata": {},
     "output_type": "execute_result"
    }
   ],
   "source": [
    "fee = [180, 5000, 10, 600]\n",
    "records = [\"05:34 5961 IN\", \"06:00 0000 IN\", \"06:34 0000 OUT\", \"07:59 5961 OUT\",\n",
    "           \"07:59 0148 IN\", \"18:59 0000 IN\", \"19:09 0148 OUT\", \"22:59 5961 IN\", \"23:00 5961 OUT\"]\n",
    "# return = [14600, 34400, 5000]\n",
    "\n",
    "solution(fee, records)"
   ]
  },
  {
   "cell_type": "code",
   "execution_count": 4,
   "metadata": {},
   "outputs": [
    {
     "data": {
      "text/plain": [
       "[0, 591]"
      ]
     },
     "execution_count": 4,
     "metadata": {},
     "output_type": "execute_result"
    }
   ],
   "source": [
    "fee = [120, 0, 60, 591]\n",
    "records = [\"16:00 3961 IN\",\"16:00 0202 IN\",\"18:00 3961 OUT\",\"18:00 0202 OUT\",\"23:58 3961 IN\"]\n",
    "# return = [0, 591]\n",
    "\n",
    "solution(fee, records)"
   ]
  },
  {
   "cell_type": "code",
   "execution_count": 5,
   "metadata": {},
   "outputs": [
    {
     "data": {
      "text/plain": [
       "[14841]"
      ]
     },
     "execution_count": 5,
     "metadata": {},
     "output_type": "execute_result"
    }
   ],
   "source": [
    "fee = [1, 461, 1, 10]\n",
    "records = [\"00:00 1234 IN\"]\n",
    "# return = [14841]\n",
    "\n",
    "solution(fee, records)"
   ]
  }
 ],
 "metadata": {
  "kernelspec": {
   "display_name": "Python 3",
   "language": "python",
   "name": "python3"
  },
  "language_info": {
   "codemirror_mode": {
    "name": "ipython",
    "version": 3
   },
   "file_extension": ".py",
   "mimetype": "text/x-python",
   "name": "python",
   "nbconvert_exporter": "python",
   "pygments_lexer": "ipython3",
   "version": "3.8.3"
  }
 },
 "nbformat": 4,
 "nbformat_minor": 4
}
